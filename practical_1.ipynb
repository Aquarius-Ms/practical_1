{
  "nbformat": 4,
  "nbformat_minor": 0,
  "metadata": {
    "colab": {
      "name": "practical_1.ipynb",
      "provenance": [],
      "collapsed_sections": []
    },
    "kernelspec": {
      "name": "python3",
      "display_name": "Python 3"
    },
    "language_info": {
      "name": "python"
    }
  },
  "cells": [
    {
      "cell_type": "markdown",
      "metadata": {
        "id": "Ww5ViGQ2WSYf"
      },
      "source": [
        " **1.1**"
      ]
    },
    {
      "cell_type": "code",
      "metadata": {
        "colab": {
          "base_uri": "https://localhost:8080/"
        },
        "id": "Co7BeCLdRJ6P",
        "outputId": "017050db-66b4-4af5-dca3-cceeff802695"
      },
      "source": [
        "for i in range(1500,2701): \n",
        "    if i%7==0 and i%5==0: \n",
        "        print(\"  \",i) "
      ],
      "execution_count": 5,
      "outputs": [
        {
          "output_type": "stream",
          "text": [
            "   1505\n",
            "   1540\n",
            "   1575\n",
            "   1610\n",
            "   1645\n",
            "   1680\n",
            "   1715\n",
            "   1750\n",
            "   1785\n",
            "   1820\n",
            "   1855\n",
            "   1890\n",
            "   1925\n",
            "   1960\n",
            "   1995\n",
            "   2030\n",
            "   2065\n",
            "   2100\n",
            "   2135\n",
            "   2170\n",
            "   2205\n",
            "   2240\n",
            "   2275\n",
            "   2310\n",
            "   2345\n",
            "   2380\n",
            "   2415\n",
            "   2450\n",
            "   2485\n",
            "   2520\n",
            "   2555\n",
            "   2590\n",
            "   2625\n",
            "   2660\n",
            "   2695\n"
          ],
          "name": "stdout"
        }
      ]
    },
    {
      "cell_type": "code",
      "metadata": {
        "colab": {
          "base_uri": "https://localhost:8080/"
        },
        "id": "RtCSN-DwSKDs",
        "outputId": "6c10ce6b-8c61-4bd5-9cc5-8b6b408e1b85"
      },
      "source": [
        "n=5; \n",
        "for i in range(n): \n",
        "    for j in range(i): \n",
        "        print ('* ', end=\"\") \n",
        "    print('')  \n",
        "for i in range(n,0,-1): \n",
        "    for j in range(i): \n",
        "        print('* ', end=\"\") \n",
        "    print('') "
      ],
      "execution_count": 4,
      "outputs": [
        {
          "output_type": "stream",
          "text": [
            "\n",
            "* \n",
            "* * \n",
            "* * * \n",
            "* * * * \n",
            "* * * * * \n",
            "* * * * \n",
            "* * * \n",
            "* * \n",
            "* \n"
          ],
          "name": "stdout"
        }
      ]
    }
  ]
}